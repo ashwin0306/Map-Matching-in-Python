{
 "cells": [
  {
   "cell_type": "code",
   "execution_count": 1,
   "metadata": {},
   "outputs": [
    {
     "name": "stdout",
     "output_type": "stream",
     "text": [
      "Emission Probabilities\n",
      "0.298500, 0.257263, 0.239010, 0.205227\n",
      "0.278517, 0.258564, 0.245636, 0.217282\n",
      "0.259292, 0.259292, 0.251883, 0.229532\n",
      "0.240870, 0.259457, 0.257727, 0.241946\n",
      "0.223283, 0.259074, 0.263150, 0.254493\n",
      "0.221061, 0.256496, 0.263649, 0.258794\n",
      "0.217720, 0.252619, 0.264338, 0.265322\n",
      "0.215488, 0.250029, 0.264758, 0.269724\n",
      "0.212134, 0.246137, 0.265328, 0.276401\n"
     ]
    }
   ],
   "source": [
    "import numpy as np\n",
    "import math\n",
    "\n",
    "def calculate_emission_probabilities(states, observations, sigma_z):\n",
    "    num_states = len(states)\n",
    "    num_observations = len(observations)\n",
    "    emission_prob = np.zeros((num_states, num_observations))\n",
    "    for i in range(num_states):\n",
    "        x_t = np.array(states[i])\n",
    "        for t in range(num_observations):\n",
    "            z_t = np.array(observations[t])\n",
    "            observation_distance = np.linalg.norm(z_t - x_t)\n",
    "            \n",
    "            # Calculate emission probability using Gaussian distribution formula\n",
    "            p_z_given_x = (1 / (math.sqrt(2 * math.pi) * sigma_z)) * np.exp(-0.5 * (observation_distance / sigma_z) ** 2)\n",
    "            emission_prob[i, t] = p_z_given_x\n",
    "    emission_prob /= np.sum(emission_prob, axis=1, keepdims=True)\n",
    "\n",
    "    return emission_prob\n",
    "states = [(0, 0), (0, 0.5), (0, 1), (0, 1.5), (0, 2), (0.2, 2), (0.5, 2), (0.7, 2), (1, 2)]\n",
    "observations = [(-0.2, 0.5), (-0.2, 1.5), (0.2, 1.8), (0.7, 2.2)]\n",
    "sigma_z = 2.593490783789292\n",
    "\n",
    "def print_array_in_single_line(arr):\n",
    "    for row in arr:\n",
    "        print(', '.join(f'{val:.6f}' for val in row))\n",
    "emission_probs = calculate_emission_probabilities(states, observations, sigma_z)\n",
    "print(\"Emission Probabilities\")\n",
    "print_array_in_single_line(emission_probs)"
   ]
  },
  {
   "cell_type": "code",
   "execution_count": 2,
   "metadata": {},
   "outputs": [
    {
     "name": "stdout",
     "output_type": "stream",
     "text": [
      "Transition Probabilities:\n",
      "0.081492, 0.107564, 0.127121, 0.135116, 0.115391, 0.114013, 0.112658, 0.108154, 0.098492\n",
      "0.079149, 0.103074, 0.125577, 0.135961, 0.116754, 0.115355, 0.114051, 0.109699, 0.100381\n",
      "0.074509, 0.100039, 0.122597, 0.136061, 0.118786, 0.117476, 0.116173, 0.111723, 0.102636\n",
      "0.070270, 0.096108, 0.120734, 0.135691, 0.120451, 0.119414, 0.118559, 0.113998, 0.104777\n",
      "0.068073, 0.093615, 0.119564, 0.136613, 0.120827, 0.119704, 0.119540, 0.115635, 0.106429\n",
      "0.067995, 0.093504, 0.119539, 0.136909, 0.121007, 0.119589, 0.119186, 0.115512, 0.106760\n",
      "0.067718, 0.093177, 0.119139, 0.136979, 0.121777, 0.120114, 0.118948, 0.115107, 0.107042\n",
      "0.067411, 0.092933, 0.118808, 0.136586, 0.122159, 0.120720, 0.119373, 0.115109, 0.106901\n",
      "0.066609, 0.092271, 0.118427, 0.136230, 0.122002, 0.121066, 0.120463, 0.116010, 0.106921\n"
     ]
    }
   ],
   "source": [
    "import numpy as np\n",
    "\n",
    "def calculate_transition_probabilities(states, observations, beta):\n",
    "    num_states = len(states)\n",
    "    transition_pro = np.zeros((num_states, num_states))\n",
    "    num_observations = len(observations)\n",
    "    \n",
    "    for t in range(num_observations-1):\n",
    "        z_t = np.array(observations[t])\n",
    "        z_next = np.array(observations[t + 1])\n",
    "        observation_distance = np.linalg.norm(z_next - z_t)\n",
    "\n",
    "        for i in range(num_states):\n",
    "            x_t = np.array(states[i])\n",
    "            for j in range(num_states):\n",
    "                x_next = np.array(states[j])\n",
    "                state_distance = np.linalg.norm(x_next - x_t)\n",
    "                d_ij = abs(state_distance - observation_distance)\n",
    "                \n",
    "                # Calculate transition probability using the given formula\n",
    "                transition_pro[i, j] += 1 / beta * np.exp(-d_ij / beta)\n",
    "        \n",
    "        # Normalize transition probabilities for each row after each iteration\n",
    "        transition_pro /= np.sum(transition_pro, axis=1, keepdims=True)\n",
    "\n",
    "    # Normalize the resultant product matrix after all iterations\n",
    "    normalized_transition_pro = np.linalg.matrix_power(transition_pro, num_observations - 1)\n",
    "    normalized_transition_pro /= np.sum(normalized_transition_pro, axis=1, keepdims=True)\n",
    "\n",
    "    return normalized_transition_pro\n",
    "\n",
    "# Define states and observations\n",
    "states = [(0, 0), (0, 0.5), (0, 1), (0, 1.5), (0, 2), (0.2, 2), (0.5, 2), (0.7, 2), (1, 2)]\n",
    "observations = [(-0.2, 0.5), (-0.2, 1.5), (0.2, 1.8), (0.7, 2.2)]\n",
    "beta = 0.865617024533378\n",
    "\n",
    "def print_array_in_single_line(arr):\n",
    "    for row in arr:\n",
    "        print(', '.join(f'{val:.6f}' for val in row))\n",
    "\n",
    "transition_pro = calculate_transition_probabilities(states, observations, beta)\n",
    "print(\"Transition Probabilities:\")\n",
    "print_array_in_single_line(transition_pro)\n"
   ]
  },
  {
   "cell_type": "code",
   "execution_count": 3,
   "metadata": {},
   "outputs": [
    {
     "name": "stdout",
     "output_type": "stream",
     "text": [
      "[7.0024774e-06]\n",
      "58\n",
      "[1 2 3 6]\n"
     ]
    }
   ],
   "source": [
    "import itertools\n",
    "import numpy as np\n",
    "import pandas as pd\n",
    "\n",
    "coordinates = [(0,0),(0,0.5),(0,1),(0,1.5),(0,2),(0.2,2),(0.5, 2),(0.7,2),(1,2)]\n",
    "separate_points = [(-0.2,0.5),(-0.2,1.5), (0.2,1.8), (0.7, 2.2)]\n",
    "\n",
    "all_combinations = list(itertools.combinations(coordinates, 4))\n",
    "pi = np.array([0.25, 0.7, 0.00714, 0.00714, 0.00714, 0.00714, 0.00714, 0.00714, 0.00714])\n",
    "\n",
    "valid_sequences = []\n",
    "for sequence in all_combinations:\n",
    "    if len(set(sequence)) == 4:  \n",
    "        valid_sequences.append(sequence)\n",
    "\n",
    "Prob = []\n",
    "index = []\n",
    "for seq in valid_sequences:\n",
    "    seq_as_list = [list(coord) for coord in seq]\n",
    "    id = np.array([coordinates.index(coord) for coord in seq]) \n",
    "    index.append(id)\n",
    "Index = np.vstack(index)\n",
    "\n",
    "for i in range(126):\n",
    "    # print(Index[i])\n",
    "    r0 = Index[i][0]\n",
    "    # print(r0)\n",
    "    P = 1\n",
    "    ps = pi[r0] * emission_probs[r0][0]\n",
    "    if i== 74:\n",
    "        ps = 0\n",
    "    else:\n",
    "        for j in range(1,4):\n",
    "            rA = Index[i][j-1]\n",
    "            cA = Index[i][j]\n",
    "            P *= transition_pro[rA][cA] * emission_probs[cA][j]\n",
    "            # print(P)\n",
    "        ps *= P\n",
    "        Prob.append(ps) \n",
    "Prob = np.array(Prob).reshape(125, 1)\n",
    "# print(Prob)\n",
    "m = max(Prob)\n",
    "print(m)\n",
    "ind = np.argmax(Prob)\n",
    "print(ind)\n",
    "print(index[58])"
   ]
  }
 ],
 "metadata": {
  "kernelspec": {
   "display_name": "Python 3",
   "language": "python",
   "name": "python3"
  },
  "language_info": {
   "codemirror_mode": {
    "name": "ipython",
    "version": 3
   },
   "file_extension": ".py",
   "mimetype": "text/x-python",
   "name": "python",
   "nbconvert_exporter": "python",
   "pygments_lexer": "ipython3",
   "version": "3.12.1"
  },
  "orig_nbformat": 4,
  "vscode": {
   "interpreter": {
    "hash": "aee8b7b246df8f9039afb4144a1f6fd8d2ca17a180786b69acc140d282b71a49"
   }
  }
 },
 "nbformat": 4,
 "nbformat_minor": 2
}
